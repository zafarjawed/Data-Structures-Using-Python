{
 "cells": [
  {
   "cell_type": "code",
   "execution_count": 1,
   "id": "9a9d4e9e-1211-48b4-a04f-caea5a27e2c0",
   "metadata": {},
   "outputs": [
    {
     "name": "stdout",
     "output_type": "stream",
     "text": [
      "Sorted Array: [ 20  40  60  80 100]\n",
      "Minimum Element: 20\n",
      "Maximum Element: 100\n"
     ]
    }
   ],
   "source": [
    "import numpy as np\n",
    "\n",
    "array = np.array([20, 40, 60, 80, 100])\n",
    "\n",
    "sorted_array = np.sort(array)\n",
    "\n",
    "min_element = sorted_array[0]\n",
    "max_element = sorted_array[-1]\n",
    "\n",
    "print(\"Sorted Array:\", sorted_array)\n",
    "print(\"Minimum Element:\", min_element)\n",
    "print(\"Maximum Element:\", max_element)\n"
   ]
  },
  {
   "cell_type": "code",
   "execution_count": null,
   "id": "a2ff33e8-0707-46c2-a340-f58ed5d29bd0",
   "metadata": {},
   "outputs": [],
   "source": []
  }
 ],
 "metadata": {
  "kernelspec": {
   "display_name": "Python 3 (ipykernel)",
   "language": "python",
   "name": "python3"
  },
  "language_info": {
   "codemirror_mode": {
    "name": "ipython",
    "version": 3
   },
   "file_extension": ".py",
   "mimetype": "text/x-python",
   "name": "python",
   "nbconvert_exporter": "python",
   "pygments_lexer": "ipython3",
   "version": "3.12.4"
  }
 },
 "nbformat": 4,
 "nbformat_minor": 5
}
