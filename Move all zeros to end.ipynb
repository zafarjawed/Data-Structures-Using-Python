{
 "cells": [
  {
   "cell_type": "code",
   "execution_count": 5,
   "id": "398ad1a2-0daf-4dab-a342-75d022069a38",
   "metadata": {},
   "outputs": [
    {
     "name": "stdout",
     "output_type": "stream",
     "text": [
      "Output: [1, 1, 1, 1, 1, 0, 0, 0]\n"
     ]
    }
   ],
   "source": [
    "import numpy as np\n",
    "x = np.array([0,1,0,1,0,1,1,1])\n",
    "def Move_Zero_End(x):\n",
    "    Count_0 = 0\n",
    "    Store_1 = 0\n",
    "    for i in x:\n",
    "        if i == 1:\n",
    "            Store_1 += 1\n",
    "        else:\n",
    "            Count_0 += 1\n",
    "    result = ([1]*Store_1)+([0]*Count_0)\n",
    "    return result\n",
    "print (\"Output:\",Move_Zero_End(x))"
   ]
  },
  {
   "cell_type": "code",
   "execution_count": null,
   "id": "a16c8044-62d5-444b-b9a0-d5fdfdb09b99",
   "metadata": {},
   "outputs": [],
   "source": []
  }
 ],
 "metadata": {
  "kernelspec": {
   "display_name": "Python 3 (ipykernel)",
   "language": "python",
   "name": "python3"
  },
  "language_info": {
   "codemirror_mode": {
    "name": "ipython",
    "version": 3
   },
   "file_extension": ".py",
   "mimetype": "text/x-python",
   "name": "python",
   "nbconvert_exporter": "python",
   "pygments_lexer": "ipython3",
   "version": "3.12.4"
  }
 },
 "nbformat": 4,
 "nbformat_minor": 5
}
