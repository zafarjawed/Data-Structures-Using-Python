{
 "cells": [
  {
   "cell_type": "code",
   "execution_count": 5,
   "id": "e3d199fd-98af-4f73-a21e-a5ad10a992fb",
   "metadata": {},
   "outputs": [
    {
     "name": "stdout",
     "output_type": "stream",
     "text": [
      "Original array: [1 2 3 4 5]\n",
      "Product Array: [120, 60, 40, 30, 24]\n"
     ]
    }
   ],
   "source": [
    "import numpy as np\n",
    "import math\n",
    "\n",
    "x = np.array([1, 2, 3, 4, 5])\n",
    "\n",
    "def prod_ExceptSel_div(x):\n",
    "    total_product = math.prod(x)\n",
    "    prod_arr = []\n",
    "    for i in x:\n",
    "        prod_arr.append(total_product // i)\n",
    "    return prod_arr\n",
    "\n",
    "print(\"Original array:\", x)\n",
    "result = prod_ExceptSel_div(x)\n",
    "print(\"Product Array:\", result)\n"
   ]
  },
  {
   "cell_type": "code",
   "execution_count": null,
   "id": "7f3b2030-63b9-4495-8765-e7969973126c",
   "metadata": {},
   "outputs": [],
   "source": []
  }
 ],
 "metadata": {
  "kernelspec": {
   "display_name": "Python 3 (ipykernel)",
   "language": "python",
   "name": "python3"
  },
  "language_info": {
   "codemirror_mode": {
    "name": "ipython",
    "version": 3
   },
   "file_extension": ".py",
   "mimetype": "text/x-python",
   "name": "python",
   "nbconvert_exporter": "python",
   "pygments_lexer": "ipython3",
   "version": "3.12.4"
  }
 },
 "nbformat": 4,
 "nbformat_minor": 5
}
