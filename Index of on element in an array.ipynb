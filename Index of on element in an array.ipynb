{
 "cells": [
  {
   "cell_type": "code",
   "execution_count": 2,
   "id": "5e036380-19d6-45d7-9e40-32565d8bdab6",
   "metadata": {},
   "outputs": [
    {
     "name": "stdin",
     "output_type": "stream",
     "text": [
      "Enter the element to search for:  30\n"
     ]
    },
    {
     "name": "stdout",
     "output_type": "stream",
     "text": [
      "Index of element: 2\n"
     ]
    }
   ],
   "source": [
    "import numpy as np\n",
    "\n",
    "x = np.array([10, 20, 30, 40, 50])\n",
    "s_ele = int(input(\"Enter the element to search for: \"))\n",
    "\n",
    "def i_ele(x, s_ele):\n",
    "    try:\n",
    "        n = len(x)\n",
    "        for i in range(n):\n",
    "            if x[i] == s_ele:\n",
    "                return i\n",
    "        raise ValueError(\"Element not found\")\n",
    "    except ValueError as e:\n",
    "        print(e)\n",
    "        return -1\n",
    "\n",
    "result = i_ele(x, s_ele)\n",
    "print(\"Index of element:\", result)\n"
   ]
  },
  {
   "cell_type": "code",
   "execution_count": null,
   "id": "2690b84d-1be3-44bc-925e-8ee7b9cb51a8",
   "metadata": {},
   "outputs": [],
   "source": []
  }
 ],
 "metadata": {
  "kernelspec": {
   "display_name": "Python 3 (ipykernel)",
   "language": "python",
   "name": "python3"
  },
  "language_info": {
   "codemirror_mode": {
    "name": "ipython",
    "version": 3
   },
   "file_extension": ".py",
   "mimetype": "text/x-python",
   "name": "python",
   "nbconvert_exporter": "python",
   "pygments_lexer": "ipython3",
   "version": "3.12.4"
  }
 },
 "nbformat": 4,
 "nbformat_minor": 5
}
