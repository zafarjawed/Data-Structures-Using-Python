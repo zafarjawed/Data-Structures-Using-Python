{
 "cells": [
  {
   "cell_type": "code",
   "execution_count": null,
   "id": "68ed4344-20e1-4692-a39b-c32f5f6dc054",
   "metadata": {},
   "outputs": [],
   "source": [
    "'''\n",
    "Key idea:\n",
    "\n",
    "1. initially index = -1\n",
    "2. string length => string_name.length()\n",
    "3. traverse up to the length of string\n",
    "4. check for the element '1'\n",
    "5. get the last index of '1'\n",
    "6. print the index followed by new line'''"
   ]
  },
  {
   "cell_type": "code",
   "execution_count": 3,
   "id": "d7da16c7-d058-4b3e-bce3-d7e3adb3a6a2",
   "metadata": {},
   "outputs": [
    {
     "name": "stdout",
     "output_type": "stream",
     "text": [
      "last index of one : 6\n"
     ]
    }
   ],
   "source": [
    "import numpy as np\n",
    "x = np.array([0,1,1,0,1,0,1,0,0])\n",
    "def last1_occur(x):\n",
    "    index = -1\n",
    "    n = len (x)\n",
    "    for i in range (n):\n",
    "        if x[i]==1:\n",
    "            index = i\n",
    "    return index\n",
    "print (\"last index of one :\", last1_occur(x))"
   ]
  }
 ],
 "metadata": {
  "kernelspec": {
   "display_name": "Python 3 (ipykernel)",
   "language": "python",
   "name": "python3"
  },
  "language_info": {
   "codemirror_mode": {
    "name": "ipython",
    "version": 3
   },
   "file_extension": ".py",
   "mimetype": "text/x-python",
   "name": "python",
   "nbconvert_exporter": "python",
   "pygments_lexer": "ipython3",
   "version": "3.12.4"
  }
 },
 "nbformat": 4,
 "nbformat_minor": 5
}
