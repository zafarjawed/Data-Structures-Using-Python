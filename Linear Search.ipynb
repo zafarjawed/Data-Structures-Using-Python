{
 "cells": [
  {
   "cell_type": "code",
   "execution_count": null,
   "id": "9d02c317-a2a9-4f80-a6ed-36bf9ed3f633",
   "metadata": {},
   "outputs": [],
   "source": [
    "'''Key Idea:\n",
    "\n",
    "1. Initialize the size of an array to 'n'\n",
    "2. Scan the array of 'n' integers\n",
    "3. Traverse linearly, index 0 -> n\n",
    "4. Compare the search element with all the elements in an array\n",
    "5. If search element == array [i]\n",
    "6. Location is i '''"
   ]
  },
  {
   "cell_type": "code",
   "execution_count": 7,
   "id": "08a7725e-b171-47b0-87ca-f3be2091d0f6",
   "metadata": {},
   "outputs": [
    {
     "name": "stdin",
     "output_type": "stream",
     "text": [
      "Element to search 50\n"
     ]
    },
    {
     "name": "stdout",
     "output_type": "stream",
     "text": [
      "Element found at index 4\n"
     ]
    }
   ],
   "source": [
    "def linear_search(arr, search_element):\n",
    "    n = len(arr)\n",
    "    for i in range(n):\n",
    "        if arr[i] == search_element:\n",
    "            return i  \n",
    "    return -1  \n",
    "array = [10, 20, 30, 40, 50]\n",
    "search_element = int(input(\"Element to search\"))\n",
    "\n",
    "location = linear_search(array, search_element)\n",
    "\n",
    "if location != -1:\n",
    "    print(\"Element found at index\",location)\n",
    "else:\n",
    "    print(\"Element not found in the array\")\n",
    "    "
   ]
  },
  {
   "cell_type": "code",
   "execution_count": null,
   "id": "452d144e-9471-4980-bdcc-b20083737375",
   "metadata": {},
   "outputs": [],
   "source": []
  }
 ],
 "metadata": {
  "kernelspec": {
   "display_name": "Python 3 (ipykernel)",
   "language": "python",
   "name": "python3"
  },
  "language_info": {
   "codemirror_mode": {
    "name": "ipython",
    "version": 3
   },
   "file_extension": ".py",
   "mimetype": "text/x-python",
   "name": "python",
   "nbconvert_exporter": "python",
   "pygments_lexer": "ipython3",
   "version": "3.12.4"
  }
 },
 "nbformat": 4,
 "nbformat_minor": 5
}
