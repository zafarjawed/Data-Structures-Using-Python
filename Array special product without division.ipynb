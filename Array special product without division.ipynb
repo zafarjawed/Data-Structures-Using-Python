{
 "cells": [
  {
   "cell_type": "code",
   "execution_count": 1,
   "id": "981e79c1-a683-44d7-aa89-cdfb663f9051",
   "metadata": {},
   "outputs": [
    {
     "name": "stdout",
     "output_type": "stream",
     "text": [
      "Original array: [1 2 3 4 5]\n",
      "Product Array: [120, 60, 40, 30, 24]\n"
     ]
    }
   ],
   "source": [
    "import numpy as np\n",
    "x = np.array([1,2,3,4,5])\n",
    "def prod_ExceptSel(x):\n",
    "    n = len(x)\n",
    "    res = [1]*n\n",
    "    for i in range (n):\n",
    "        for j in range (n):\n",
    "            if i!=j:\n",
    "                res[i] *= x[j]\n",
    "    return res\n",
    "print (\"Original array:\",x)\n",
    "result = prod_ExceptSel(x)\n",
    "print (\"Product Array:\", result)"
   ]
  },
  {
   "cell_type": "code",
   "execution_count": null,
   "id": "e7848009-ba8d-44bf-b418-dd499663dd9e",
   "metadata": {},
   "outputs": [],
   "source": []
  }
 ],
 "metadata": {
  "kernelspec": {
   "display_name": "Python 3 (ipykernel)",
   "language": "python",
   "name": "python3"
  },
  "language_info": {
   "codemirror_mode": {
    "name": "ipython",
    "version": 3
   },
   "file_extension": ".py",
   "mimetype": "text/x-python",
   "name": "python",
   "nbconvert_exporter": "python",
   "pygments_lexer": "ipython3",
   "version": "3.12.4"
  }
 },
 "nbformat": 4,
 "nbformat_minor": 5
}
